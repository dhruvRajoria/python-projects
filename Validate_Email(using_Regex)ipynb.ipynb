{
  "nbformat": 4,
  "nbformat_minor": 0,
  "metadata": {
    "colab": {
      "provenance": [],
      "authorship_tag": "ABX9TyPpmH8xFI8oFfS7Vs6Zrx7s",
      "include_colab_link": true
    },
    "kernelspec": {
      "name": "python3",
      "display_name": "Python 3"
    },
    "language_info": {
      "name": "python"
    }
  },
  "cells": [
    {
      "cell_type": "markdown",
      "metadata": {
        "id": "view-in-github",
        "colab_type": "text"
      },
      "source": [
        "<a href=\"https://colab.research.google.com/github/dhruvRajoria/python-projects/blob/main/Validate_Email(using_Regex)ipynb.ipynb\" target=\"_parent\"><img src=\"https://colab.research.google.com/assets/colab-badge.svg\" alt=\"Open In Colab\"/></a>"
      ]
    },
    {
      "cell_type": "code",
      "execution_count": 1,
      "metadata": {
        "id": "hrB2914NMOq5"
      },
      "outputs": [],
      "source": [
        "import re"
      ]
    },
    {
      "cell_type": "code",
      "source": [
        "email_condition=re.compile(r'([A-Za-z0-9]+[.-_])*[A-Za-z0-9]+@[A-Za-z0-9-]+(\\.[A-Z|a-z]{2,})+')"
      ],
      "metadata": {
        "id": "-EIW6-YjMli8"
      },
      "execution_count": 2,
      "outputs": []
    },
    {
      "cell_type": "code",
      "source": [
        "email_condition=\"^[a-z]+[\\._]?[a-z 0-9]+[@]\\w+[.]\\w{2,3}$\"             #? at atime give 1 chrac, \\w search,\\W reverse"
      ],
      "metadata": {
        "id": "n9oW7L-JM3VA"
      },
      "execution_count": 3,
      "outputs": []
    },
    {
      "cell_type": "code",
      "source": [
        "user_email=input(\"Enter your email: \")"
      ],
      "metadata": {
        "colab": {
          "base_uri": "https://localhost:8080/"
        },
        "id": "oGneHmsCNrux",
        "outputId": "5532d455-bbf1-4a7e-c01a-e01340dc7e68"
      },
      "execution_count": 8,
      "outputs": [
        {
          "name": "stdout",
          "output_type": "stream",
          "text": [
            "Enter your email: abc.we@gmail.in\n"
          ]
        }
      ]
    },
    {
      "cell_type": "code",
      "source": [
        "if re.search(email_condition,user_email):\n",
        "    print(\"Valid Email\")\n",
        "else:\n",
        "    print(\"Invalid Email\")"
      ],
      "metadata": {
        "colab": {
          "base_uri": "https://localhost:8080/"
        },
        "id": "IvvrCfA2Nytc",
        "outputId": "bc34bfe2-3aeb-43e6-92c3-a9d2e7e24b39"
      },
      "execution_count": 9,
      "outputs": [
        {
          "output_type": "stream",
          "name": "stdout",
          "text": [
            "Valid Email\n"
          ]
        }
      ]
    }
  ]
}