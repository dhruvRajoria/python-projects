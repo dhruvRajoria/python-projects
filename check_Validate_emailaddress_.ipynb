{
  "nbformat": 4,
  "nbformat_minor": 0,
  "metadata": {
    "colab": {
      "provenance": [],
      "authorship_tag": "ABX9TyMVvUUDeC9tr6yHyJdpjzHa",
      "include_colab_link": true
    },
    "kernelspec": {
      "name": "python3",
      "display_name": "Python 3"
    },
    "language_info": {
      "name": "python"
    }
  },
  "cells": [
    {
      "cell_type": "markdown",
      "metadata": {
        "id": "view-in-github",
        "colab_type": "text"
      },
      "source": [
        "<a href=\"https://colab.research.google.com/github/dhruvRajoria/python-projects/blob/main/check_Validate_emailaddress_.ipynb\" target=\"_parent\"><img src=\"https://colab.research.google.com/assets/colab-badge.svg\" alt=\"Open In Colab\"/></a>"
      ]
    },
    {
      "cell_type": "code",
      "source": [
        "email = input(\"Enter your email: \")  # Example: g@g.in\n",
        "format = True  # Initialize format as True\n",
        "\n",
        "if len(email) >= 6:\n",
        "    if email[0].isalpha():\n",
        "        if (\"@\" in email) and (email.count(\"@\") == 1):\n",
        "            if (email[-4] == \".\") ^ (email[-3] == \".\"):\n",
        "                for i in email:\n",
        "                    if i.isspace():\n",
        "                        format = False\n",
        "                        break\n",
        "                    elif i.isalpha():\n",
        "                        if i.isupper():\n",
        "                            format = False\n",
        "                            break\n",
        "                    elif i.isdigit():\n",
        "                        continue\n",
        "                    elif i == \"_\" or i == \".\" or i == \"@\":\n",
        "                        continue\n",
        "                    else:\n",
        "                        format = False\n",
        "                        break\n",
        "            else:\n",
        "                format = False\n",
        "        else:\n",
        "            format = False\n",
        "    else:\n",
        "        format = False\n",
        "else:\n",
        "    format = False\n",
        "\n",
        "if format:\n",
        "    print(\"Valid email\")\n",
        "else:\n",
        "    print(\"Invalid email\")\n"
      ],
      "metadata": {
        "colab": {
          "base_uri": "https://localhost:8080/"
        },
        "id": "KCJ7LjcxG0KD",
        "outputId": "1ea9141a-ddea-45e2-a81a-e189126940bf"
      },
      "execution_count": 13,
      "outputs": [
        {
          "output_type": "stream",
          "name": "stdout",
          "text": [
            "Enter your email: abc.def@gmail.com\n",
            "Valid email\n"
          ]
        }
      ]
    }
  ]
}